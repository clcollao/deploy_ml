{
 "cells": [
  {
   "cell_type": "markdown",
   "id": "e3e71139",
   "metadata": {},
   "source": [
    "### 1. Importación de librerias"
   ]
  },
  {
   "cell_type": "code",
   "execution_count": 1,
   "id": "fc5fcccf",
   "metadata": {},
   "outputs": [],
   "source": [
    "## Manipulación de datos\n",
    "import pandas as pd\n",
    "import numpy as np\n",
    "pd.pandas.set_option('display.max_columns', None) # Para mostrar todas las columnas del dataframe en el notebook\n",
    "\n",
    "## Visualización de datos\n",
    "import matplotlib.pyplot as plt\n",
    "import seaborn as sns\n",
    "\n",
    "## Transformaciones yeo-johnson\n",
    "import scipy.stats as stats"
   ]
  },
  {
   "cell_type": "code",
   "execution_count": null,
   "id": "1b6ecd82",
   "metadata": {},
   "outputs": [],
   "source": []
  }
 ],
 "metadata": {
  "kernelspec": {
   "display_name": "Python 3 (ipykernel)",
   "language": "python",
   "name": "python3"
  },
  "language_info": {
   "codemirror_mode": {
    "name": "ipython",
    "version": 3
   },
   "file_extension": ".py",
   "mimetype": "text/x-python",
   "name": "python",
   "nbconvert_exporter": "python",
   "pygments_lexer": "ipython3",
   "version": "3.9.13"
  }
 },
 "nbformat": 4,
 "nbformat_minor": 5
}

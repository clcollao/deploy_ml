{
 "cells": [
  {
   "cell_type": "markdown",
   "id": "1cc4cc1a",
   "metadata": {},
   "source": [
    "### 1. Importación de librerias"
   ]
  },
  {
   "cell_type": "code",
   "execution_count": 2,
   "id": "30f6ac3d",
   "metadata": {},
   "outputs": [],
   "source": [
    "## Manipulación de datos\n",
    "import pandas as pd\n",
    "import numpy as np\n",
    "pd.pandas.set_option('display.max_columns', None) # Para mostrar todas las columnas del dataframe en el notebook\n",
    "\n",
    "## Visualización de datos\n",
    "import matplotlib.pyplot as plt\n",
    "import seaborn as sns\n",
    "\n",
    "## Transformaciones yeo-johnson\n",
    "import scipy.stats as stats\n",
    "\n",
    "#### Configuración #########################\n",
    "from pathlib import Path\n",
    "import warnings\n",
    "warnings.filterwarnings('ignore')"
   ]
  },
  {
   "cell_type": "markdown",
   "id": "6a7e9044",
   "metadata": {},
   "source": [
    "### 2. Carga de los datos"
   ]
  },
  {
   "cell_type": "code",
   "execution_count": 5,
   "id": "09680c3f",
   "metadata": {},
   "outputs": [
    {
     "data": {
      "text/plain": [
       "True"
      ]
     },
     "execution_count": 5,
     "metadata": {},
     "output_type": "execute_result"
    }
   ],
   "source": [
    "# Definición ruta acceso a los datos\n",
    "\n",
    "DATA = Path('/Users/claudiocollaobahamondes/Desktop/deploy_ml/deploy_ml/data')\n",
    "#DATA = Path('./')\n",
    "\n",
    "# Validación si existe la carpeta data\n",
    "DATA.exists()"
   ]
  },
  {
   "cell_type": "code",
   "execution_count": null,
   "id": "3f18bb71",
   "metadata": {},
   "outputs": [],
   "source": []
  }
 ],
 "metadata": {
  "kernelspec": {
   "display_name": "Python 3 (ipykernel)",
   "language": "python",
   "name": "python3"
  },
  "language_info": {
   "codemirror_mode": {
    "name": "ipython",
    "version": 3
   },
   "file_extension": ".py",
   "mimetype": "text/x-python",
   "name": "python",
   "nbconvert_exporter": "python",
   "pygments_lexer": "ipython3",
   "version": "3.9.13"
  }
 },
 "nbformat": 4,
 "nbformat_minor": 5
}
